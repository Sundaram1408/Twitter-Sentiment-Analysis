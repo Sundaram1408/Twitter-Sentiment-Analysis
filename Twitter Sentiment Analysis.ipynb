{
 "cells": [
  {
   "cell_type": "code",
   "execution_count": 1,
   "metadata": {},
   "outputs": [],
   "source": [
    "# Importing libraries\n",
    "import tweepy\n",
    "from textblob import TextBlob\n",
    "from wordcloud import WordCloud\n",
    "import pandas as pd\n",
    "import re\n",
    "import matplotlib.pyplot as plt"
   ]
  },
  {
   "cell_type": "code",
   "execution_count": 2,
   "metadata": {},
   "outputs": [],
   "source": [
    "# uploading the data\n",
    "log=pd.read_csv('config.csv')"
   ]
  },
  {
   "cell_type": "code",
   "execution_count": 3,
   "metadata": {},
   "outputs": [],
   "source": [
    "# getting twitter api credentials\n",
    "twitterApiKey=log['twitterApiKey'][0]\n",
    "twitterApiSecret=log['twitterApiSecret'][0]\n",
    "twitterApiAccessToken=log['twitterApiAccessToken'][0]\n",
    "twitterApiAccessTokenSecret=log['twitterApiAccessTokenSecret'][0]"
   ]
  },
  {
   "cell_type": "code",
   "execution_count": 4,
   "metadata": {},
   "outputs": [],
   "source": [
    "# creating authentication object to authenticate the tokens\n",
    "auth=tweepy.OAuthHandler(twitterApiKey,twitterApiSecret)\n",
    "\n",
    "# setting the access token and access token secret \n",
    "auth.set_access_token(twitterApiAccessToken,twitterApiAccessTokenSecret)\n",
    "\n",
    "# creating the api object\n",
    "twitterApi=tweepy.API(auth)"
   ]
  },
  {
   "cell_type": "code",
   "execution_count": 5,
   "metadata": {},
   "outputs": [],
   "source": [
    "# extracting 100 tweets from the tweeter user\n",
    "posts=twitterApi.user_timeline(screen_name=\"BillGates\",count=100,lang=\"en\",tweet_mode=\"extended\")"
   ]
  },
  {
   "cell_type": "code",
   "execution_count": 9,
   "metadata": {},
   "outputs": [
    {
     "name": "stdout",
     "output_type": "stream",
     "text": [
      "5 recent tweets are: \n",
      "\n",
      "1)- RT @gatesfoundation: As our CEO @MSuzman says, no barriers should stand in the way of equitable access to vaccines. We are supportive of a…\n",
      "\n",
      "2)- https://t.co/padmHSgWGc\n",
      "\n",
      "3)- RT @WHO: The @ACTAccelerator, an unprecedented global alliance to develop &amp; deliver the tests, treatments &amp; vaccines the 🌐 needs to fight #…\n",
      "\n",
      "4)- I was honored to speak at today’s #LeadersClimateSummit about the three things we need to do to avoid a climate disaster. https://t.co/0YJJyabeIn\n",
      "\n",
      "5)- Ambitious short-term goals like this are critical to moving closer to a net-zero future. As we rapidly scale the solutions we have, we must also invest in innovation to reach our ultimate goals. Thank you @POTUS for your leadership. https://t.co/SVeKp1KPHT\n",
      "\n"
     ]
    }
   ],
   "source": [
    "# printing the 5 recent tweets from the account\n",
    "print(\"5 recent tweets are: \\n\")\n",
    "i=1\n",
    "for tweet in posts[0:5]:\n",
    "    print(str(i)+')- '+tweet.full_text+'\\n')\n",
    "    i=i+1"
   ]
  },
  {
   "cell_type": "code",
   "execution_count": 7,
   "metadata": {},
   "outputs": [
    {
     "data": {
      "text/html": [
       "<div>\n",
       "<style scoped>\n",
       "    .dataframe tbody tr th:only-of-type {\n",
       "        vertical-align: middle;\n",
       "    }\n",
       "\n",
       "    .dataframe tbody tr th {\n",
       "        vertical-align: top;\n",
       "    }\n",
       "\n",
       "    .dataframe thead th {\n",
       "        text-align: right;\n",
       "    }\n",
       "</style>\n",
       "<table border=\"1\" class=\"dataframe\">\n",
       "  <thead>\n",
       "    <tr style=\"text-align: right;\">\n",
       "      <th></th>\n",
       "      <th>Tweets</th>\n",
       "    </tr>\n",
       "  </thead>\n",
       "  <tbody>\n",
       "    <tr>\n",
       "      <th>0</th>\n",
       "      <td>RT @gatesfoundation: As our CEO @MSuzman says,...</td>\n",
       "    </tr>\n",
       "    <tr>\n",
       "      <th>1</th>\n",
       "      <td>https://t.co/padmHSgWGc</td>\n",
       "    </tr>\n",
       "    <tr>\n",
       "      <th>2</th>\n",
       "      <td>RT @WHO: The @ACTAccelerator, an unprecedented...</td>\n",
       "    </tr>\n",
       "    <tr>\n",
       "      <th>3</th>\n",
       "      <td>I was honored to speak at today’s #LeadersClim...</td>\n",
       "    </tr>\n",
       "    <tr>\n",
       "      <th>4</th>\n",
       "      <td>Ambitious short-term goals like this are criti...</td>\n",
       "    </tr>\n",
       "    <tr>\n",
       "      <th>5</th>\n",
       "      <td>It’s encouraging to see @POTUS Biden and @Clim...</td>\n",
       "    </tr>\n",
       "    <tr>\n",
       "      <th>6</th>\n",
       "      <td>Yesterday's verdict was a step in the right di...</td>\n",
       "    </tr>\n",
       "    <tr>\n",
       "      <th>7</th>\n",
       "      <td>“Time” is a poetic portrait of a family who lo...</td>\n",
       "    </tr>\n",
       "    <tr>\n",
       "      <th>8</th>\n",
       "      <td>If “Time” wins the Oscar this year, it will be...</td>\n",
       "    </tr>\n",
       "    <tr>\n",
       "      <th>9</th>\n",
       "      <td>Communities of color have been hit hard by COV...</td>\n",
       "    </tr>\n",
       "  </tbody>\n",
       "</table>\n",
       "</div>"
      ],
      "text/plain": [
       "                                              Tweets\n",
       "0  RT @gatesfoundation: As our CEO @MSuzman says,...\n",
       "1                            https://t.co/padmHSgWGc\n",
       "2  RT @WHO: The @ACTAccelerator, an unprecedented...\n",
       "3  I was honored to speak at today’s #LeadersClim...\n",
       "4  Ambitious short-term goals like this are criti...\n",
       "5  It’s encouraging to see @POTUS Biden and @Clim...\n",
       "6  Yesterday's verdict was a step in the right di...\n",
       "7  “Time” is a poetic portrait of a family who lo...\n",
       "8  If “Time” wins the Oscar this year, it will be...\n",
       "9  Communities of color have been hit hard by COV..."
      ]
     },
     "execution_count": 7,
     "metadata": {},
     "output_type": "execute_result"
    }
   ],
   "source": [
    "# creating a dataframe with a column called Tweets\n",
    "df=pd.DataFrame([tweet.full_text for tweet in posts],columns=['Tweets'])\n",
    "\n",
    "# showing the first 10 rows of data\n",
    "df.head(10)"
   ]
  },
  {
   "cell_type": "code",
   "execution_count": 8,
   "metadata": {},
   "outputs": [],
   "source": [
    "# creating a function to remove unwanted texts\n",
    "def cleanText(text):\n",
    "  text = re.sub(r'@[A-Za-z0-9]+','',text)     # removing @mentions\n",
    "  text = re.sub(r'#', '', text )                # removing '#' sign\n",
    "  text = re.sub(r'RT[\\s]+', '', text)           # removing RT\n",
    "  text = re.sub(r'https?\\/\\/\\S+', '', text)     # removing the hyper link\n",
    "  return text"
   ]
  },
  {
   "cell_type": "code",
   "execution_count": 9,
   "metadata": {},
   "outputs": [
    {
     "data": {
      "text/html": [
       "<div>\n",
       "<style scoped>\n",
       "    .dataframe tbody tr th:only-of-type {\n",
       "        vertical-align: middle;\n",
       "    }\n",
       "\n",
       "    .dataframe tbody tr th {\n",
       "        vertical-align: top;\n",
       "    }\n",
       "\n",
       "    .dataframe thead th {\n",
       "        text-align: right;\n",
       "    }\n",
       "</style>\n",
       "<table border=\"1\" class=\"dataframe\">\n",
       "  <thead>\n",
       "    <tr style=\"text-align: right;\">\n",
       "      <th></th>\n",
       "      <th>Tweets</th>\n",
       "    </tr>\n",
       "  </thead>\n",
       "  <tbody>\n",
       "    <tr>\n",
       "      <th>0</th>\n",
       "      <td>: As our CEO  says, no barriers should stand i...</td>\n",
       "    </tr>\n",
       "    <tr>\n",
       "      <th>1</th>\n",
       "      <td>https://t.co/padmHSgWGc</td>\n",
       "    </tr>\n",
       "    <tr>\n",
       "      <th>2</th>\n",
       "      <td>: The , an unprecedented global alliance to de...</td>\n",
       "    </tr>\n",
       "    <tr>\n",
       "      <th>3</th>\n",
       "      <td>I was honored to speak at today’s LeadersClima...</td>\n",
       "    </tr>\n",
       "    <tr>\n",
       "      <th>4</th>\n",
       "      <td>Ambitious short-term goals like this are criti...</td>\n",
       "    </tr>\n",
       "    <tr>\n",
       "      <th>...</th>\n",
       "      <td>...</td>\n",
       "    </tr>\n",
       "    <tr>\n",
       "      <th>95</th>\n",
       "      <td>Standing up for science has never been more im...</td>\n",
       "    </tr>\n",
       "    <tr>\n",
       "      <th>96</th>\n",
       "      <td>I've known and learned from  for more than 40 ...</td>\n",
       "    </tr>\n",
       "    <tr>\n",
       "      <th>97</th>\n",
       "      <td>This book has nothing to do with viruses or pa...</td>\n",
       "    </tr>\n",
       "    <tr>\n",
       "      <th>98</th>\n",
       "      <td>Monoclonal antibodies are one of the most prom...</td>\n",
       "    </tr>\n",
       "    <tr>\n",
       "      <th>99</th>\n",
       "      <td>: We’re looking for new ways to advance Alzhei...</td>\n",
       "    </tr>\n",
       "  </tbody>\n",
       "</table>\n",
       "<p>100 rows × 1 columns</p>\n",
       "</div>"
      ],
      "text/plain": [
       "                                               Tweets\n",
       "0   : As our CEO  says, no barriers should stand i...\n",
       "1                             https://t.co/padmHSgWGc\n",
       "2   : The , an unprecedented global alliance to de...\n",
       "3   I was honored to speak at today’s LeadersClima...\n",
       "4   Ambitious short-term goals like this are criti...\n",
       "..                                                ...\n",
       "95  Standing up for science has never been more im...\n",
       "96  I've known and learned from  for more than 40 ...\n",
       "97  This book has nothing to do with viruses or pa...\n",
       "98  Monoclonal antibodies are one of the most prom...\n",
       "99  : We’re looking for new ways to advance Alzhei...\n",
       "\n",
       "[100 rows x 1 columns]"
      ]
     },
     "execution_count": 9,
     "metadata": {},
     "output_type": "execute_result"
    }
   ],
   "source": [
    "# applying the cleanText functions on all tweets\n",
    "df['Tweets']=df['Tweets'].apply(cleanText)\n",
    "\n",
    "#showing the cleaned tweets\n",
    "df"
   ]
  },
  {
   "cell_type": "code",
   "execution_count": 10,
   "metadata": {},
   "outputs": [],
   "source": [
    "# creating a function to get the subjectivity\n",
    "def getTextSubjectivity(text):\n",
    "    return TextBlob(text).sentiment.subjectivity\n",
    "\n",
    "# creating a function to get the polarity\n",
    "def getTextPolarity(text):\n",
    "    return TextBlob(text).sentiment.polarity"
   ]
  },
  {
   "cell_type": "code",
   "execution_count": 11,
   "metadata": {},
   "outputs": [
    {
     "data": {
      "text/html": [
       "<div>\n",
       "<style scoped>\n",
       "    .dataframe tbody tr th:only-of-type {\n",
       "        vertical-align: middle;\n",
       "    }\n",
       "\n",
       "    .dataframe tbody tr th {\n",
       "        vertical-align: top;\n",
       "    }\n",
       "\n",
       "    .dataframe thead th {\n",
       "        text-align: right;\n",
       "    }\n",
       "</style>\n",
       "<table border=\"1\" class=\"dataframe\">\n",
       "  <thead>\n",
       "    <tr style=\"text-align: right;\">\n",
       "      <th></th>\n",
       "      <th>Tweets</th>\n",
       "      <th>Subjectivity</th>\n",
       "      <th>Polarity</th>\n",
       "    </tr>\n",
       "  </thead>\n",
       "  <tbody>\n",
       "    <tr>\n",
       "      <th>0</th>\n",
       "      <td>: As our CEO  says, no barriers should stand i...</td>\n",
       "      <td>1.000000</td>\n",
       "      <td>0.500000</td>\n",
       "    </tr>\n",
       "    <tr>\n",
       "      <th>1</th>\n",
       "      <td>https://t.co/padmHSgWGc</td>\n",
       "      <td>0.000000</td>\n",
       "      <td>0.000000</td>\n",
       "    </tr>\n",
       "    <tr>\n",
       "      <th>2</th>\n",
       "      <td>: The , an unprecedented global alliance to de...</td>\n",
       "      <td>0.450000</td>\n",
       "      <td>0.300000</td>\n",
       "    </tr>\n",
       "    <tr>\n",
       "      <th>3</th>\n",
       "      <td>I was honored to speak at today’s LeadersClima...</td>\n",
       "      <td>0.000000</td>\n",
       "      <td>0.000000</td>\n",
       "    </tr>\n",
       "    <tr>\n",
       "      <th>4</th>\n",
       "      <td>Ambitious short-term goals like this are criti...</td>\n",
       "      <td>0.668750</td>\n",
       "      <td>0.062500</td>\n",
       "    </tr>\n",
       "    <tr>\n",
       "      <th>...</th>\n",
       "      <td>...</td>\n",
       "      <td>...</td>\n",
       "      <td>...</td>\n",
       "    </tr>\n",
       "    <tr>\n",
       "      <th>95</th>\n",
       "      <td>Standing up for science has never been more im...</td>\n",
       "      <td>0.750000</td>\n",
       "      <td>0.450000</td>\n",
       "    </tr>\n",
       "    <tr>\n",
       "      <th>96</th>\n",
       "      <td>I've known and learned from  for more than 40 ...</td>\n",
       "      <td>0.550000</td>\n",
       "      <td>0.425000</td>\n",
       "    </tr>\n",
       "    <tr>\n",
       "      <th>97</th>\n",
       "      <td>This book has nothing to do with viruses or pa...</td>\n",
       "      <td>0.966667</td>\n",
       "      <td>0.600000</td>\n",
       "    </tr>\n",
       "    <tr>\n",
       "      <th>98</th>\n",
       "      <td>Monoclonal antibodies are one of the most prom...</td>\n",
       "      <td>0.525714</td>\n",
       "      <td>0.222857</td>\n",
       "    </tr>\n",
       "    <tr>\n",
       "      <th>99</th>\n",
       "      <td>: We’re looking for new ways to advance Alzhei...</td>\n",
       "      <td>0.454545</td>\n",
       "      <td>0.136364</td>\n",
       "    </tr>\n",
       "  </tbody>\n",
       "</table>\n",
       "<p>100 rows × 3 columns</p>\n",
       "</div>"
      ],
      "text/plain": [
       "                                               Tweets  Subjectivity  Polarity\n",
       "0   : As our CEO  says, no barriers should stand i...      1.000000  0.500000\n",
       "1                             https://t.co/padmHSgWGc      0.000000  0.000000\n",
       "2   : The , an unprecedented global alliance to de...      0.450000  0.300000\n",
       "3   I was honored to speak at today’s LeadersClima...      0.000000  0.000000\n",
       "4   Ambitious short-term goals like this are criti...      0.668750  0.062500\n",
       "..                                                ...           ...       ...\n",
       "95  Standing up for science has never been more im...      0.750000  0.450000\n",
       "96  I've known and learned from  for more than 40 ...      0.550000  0.425000\n",
       "97  This book has nothing to do with viruses or pa...      0.966667  0.600000\n",
       "98  Monoclonal antibodies are one of the most prom...      0.525714  0.222857\n",
       "99  : We’re looking for new ways to advance Alzhei...      0.454545  0.136364\n",
       "\n",
       "[100 rows x 3 columns]"
      ]
     },
     "execution_count": 11,
     "metadata": {},
     "output_type": "execute_result"
    }
   ],
   "source": [
    "# creating two new columns in dataframe\n",
    "df['Subjectivity']=df['Tweets'].apply(getTextSubjectivity)\n",
    "df['Polarity']=df['Tweets'].apply(getTextPolarity)\n",
    "\n",
    "# showing the modified dataframe\n",
    "df"
   ]
  },
  {
   "cell_type": "code",
   "execution_count": 12,
   "metadata": {},
   "outputs": [
    {
     "data": {
      "image/png": "[encoded data removed]",
      "text/plain": [
       "<Figure size 432x288 with 1 Axes>"
      ]
     },
     "metadata": {
      "needs_background": "light"
     },
     "output_type": "display_data"
    }
   ],
   "source": [
    "# plotting the word cloud for visualization\n",
    "allWords = ' '.join([twts for twts in df['Tweets']])\n",
    "wordCloud = WordCloud(width=500, height=300, max_font_size=110).generate(allWords)\n",
    "plt.imshow(wordCloud)\n",
    "plt.axis('off')\n",
    "plt.show()"
   ]
  },
  {
   "cell_type": "code",
   "execution_count": 8,
   "metadata": {},
   "outputs": [
    {
     "ename": "NameError",
     "evalue": "name 'df' is not defined",
     "output_type": "error",
     "traceback": [
      "\u001b[1;31m---------------------------------------------------------------------------\u001b[0m",
      "\u001b[1;31mNameError\u001b[0m                                 Traceback (most recent call last)",
      "\u001b[1;32m<ipython-input-8-d7a7d4f2f680>\u001b[0m in \u001b[0;36m<module>\u001b[1;34m\u001b[0m\n\u001b[0;32m      9\u001b[0m \u001b[1;33m\u001b[0m\u001b[0m\n\u001b[0;32m     10\u001b[0m \u001b[1;31m# creatin a new column\u001b[0m\u001b[1;33m\u001b[0m\u001b[1;33m\u001b[0m\u001b[1;33m\u001b[0m\u001b[0m\n\u001b[1;32m---> 11\u001b[1;33m \u001b[0mdf\u001b[0m\u001b[1;33m[\u001b[0m\u001b[1;34m'Analysis'\u001b[0m\u001b[1;33m]\u001b[0m\u001b[1;33m=\u001b[0m\u001b[0mdf\u001b[0m\u001b[1;33m[\u001b[0m\u001b[1;34m'Polarity'\u001b[0m\u001b[1;33m]\u001b[0m\u001b[1;33m.\u001b[0m\u001b[0mapply\u001b[0m\u001b[1;33m(\u001b[0m\u001b[0mgetTextAnalysis\u001b[0m\u001b[1;33m)\u001b[0m\u001b[1;33m\u001b[0m\u001b[1;33m\u001b[0m\u001b[0m\n\u001b[0m\u001b[0;32m     12\u001b[0m \u001b[1;33m\u001b[0m\u001b[0m\n\u001b[0;32m     13\u001b[0m \u001b[1;31m# showing the dataframe\u001b[0m\u001b[1;33m\u001b[0m\u001b[1;33m\u001b[0m\u001b[1;33m\u001b[0m\u001b[0m\n",
      "\u001b[1;31mNameError\u001b[0m: name 'df' is not defined"
     ]
    }
   ],
   "source": [
    "# creating a function for text analysis\n",
    "def getTextAnalysis(a):\n",
    "    if a<0:\n",
    "        return \"Negative\"\n",
    "    elif a==0:\n",
    "        return \"Neutral\"\n",
    "    else:\n",
    "        return \"Positive\"\n",
    "    \n",
    "# creatin a new column\n",
    "df['Analysis']=df['Polarity'].apply(getTextAnalysis)\n",
    "\n",
    "# showing the dataframe\n",
    "#df\n",
    "min(df['Subjectivity'])"
   ]
  },
  {
   "cell_type": "code",
   "execution_count": 14,
   "metadata": {},
   "outputs": [
    {
     "name": "stdout",
     "output_type": "stream",
     "text": [
      "1)- : As our CEO  says, no barriers should stand in the way of equitable access to vaccines. We are supportive of a…\n",
      "\n",
      "2)- : The , an unprecedented global alliance to develop &amp; deliver the tests, treatments &amp; vaccines the 🌐 needs to fight …\n",
      "\n",
      "3)- Ambitious short-term goals like this are critical to moving closer to a net-zero future. As we rapidly scale the solutions we have, we must also invest in innovation to reach our ultimate goals. Thank you  for your leadership. https://t.co/SVeKp1KPHT\n",
      "\n",
      "4)- It’s encouraging to see  Biden and  Kerry re-establish America’s leading role on climate change. I look forward to joining leaders from around the world to talk about some of the most important challenges we need to overcome to avoid a climate disaster. https://t.co/a9CXZzIg6Y\n",
      "\n",
      "5)- Yesterday's verdict was a step in the right direction. But one court ruling alone will not bring to an end the injustice and inequity that Black people experience daily.  I hope we will continue to make real progress on this.\n",
      "\n",
      "6)- “Time” is a poetic portrait of a family who love and support each other despite their difficult circumstances. I can’t recommend it highly enough. https://t.co/pxkDEmL2SR\n",
      "\n",
      "7)- If “Time” wins the Oscar this year, it will be the first documentary directed by a Black woman to do so. Garrett Bradley’s talent makes her worthy of that milestone. This is one of the most intimate movies I have ever seen. itsTIME https://t.co/37x1gfWZgZ\n",
      "\n",
      "8)- : In February, Ghana became the first African country to receive vaccines through COVAX. Meet one of the nurses spearheading the v…\n",
      "\n",
      "9)- To get to net-zero emissions globally by 2050, leaders from around the world must work together. It’s encouraging to see governments, business leaders, and financial institutions committing to a successful COP26 in Glasgow later this year. https://t.co/9bLQJvfZIR\n",
      "\n",
      "10)- The amount of cement China has consumed is a staggering statistic and reminder of how much emissions have grown in low- and middle-income countries. (Minecraft concrete doesn’t count, though server farms are responsible for a lot of emissions.) https://t.co/b8tSNNdUBy https://t.co/bFrIIUv97i\n",
      "\n",
      "11)- Who installed the most concrete?\n",
      "\n",
      "Check your answer: https://t.co/wqmmPffvwB\n",
      "\n",
      "12)- The best way to prevent new variants from emerging is by stopping transmission of the virus altogether: https://t.co/KhJoM3LBmr https://t.co/5Vhfsjew3D\n",
      "\n",
      "13)- It's encouraging to see innovation and clean energy investments at the forefront of 's AmericanJobsPlan. Building markets for new energy technologies is good for jobs today and will build the economies we need while avoiding a climate disaster. https://t.co/V6GcPSiaH8\n",
      "\n",
      "14)- The technological transformation we need to address climate change can create good, safe jobs and build a more equitable, prosperous economy. To make that happen, we need to think big: https://t.co/jFWTPyaOAq https://t.co/PR5sxI7aDt\n",
      "\n",
      "15)- I had a great time answering questions about my new book, climate change, and COVID-19 on  last week. Here’s a recap of the conversation. https://t.co/Kvd2blqXkL\n",
      "\n",
      "16)- In this video, I answered some really good questions, including one about two really important numbers. Come ask me some questions of your own on  at 11:15: https://t.co/HXMsI0lSK1 https://t.co/SQ4N1MlxGO\n",
      "\n",
      "17)- I named my book “How to Avoid a Climate Disaster,” not “How to Stop Climate Change,” because our climate is already changing—and no one will be hurt more by climate change than the world’s poorest people. Here's how we can help them adapt. https://t.co/9mLJUpYErv\n",
      "\n",
      "18)- Congratulations  on this important role. I’m excited to see what you and the Earth Fund will achieve. Avoiding a climate disaster is going to take all of us, and I’m grateful for ’s leadership and partnership. https://t.co/QSMBMtfUI1\n",
      "\n",
      "19)- Thank you  for a great conversation about climate change and thanks to  and  for hosting the event. https://t.co/mHQ2Adqkro\n",
      "\n",
      "20)- Virologist Ruth Bishop pioneered the research that led to the discovery of rotavirus. Her legacy continues both as a role model for other researchers and in the millions of children’s lives that have been saved because of her heroic work: https://t.co/qjroJpzqTc IWD2021 https://t.co/rEtrmXwFxJ\n",
      "\n",
      "21)- : On International Women’s Day, join me in celebrating some of the inspiring women who made COVID19 vaccines possible. Know…\n",
      "\n",
      "22)- Thank you  for the kind words. Your leadership at the 2015 Paris climate conference helped prove that global cooperation on climate is possible and gives me hope that we can reach our goal of zero emissions. https://t.co/990iHWgQqx\n",
      "\n",
      "23)- Moving to a green economy is the biggest challenge the world has ever faced. I’m optimistic we can do it, but need to make sure it benefits everyone—including those workers and communities who depend on the fossil fuels that we need to get rid of. https://t.co/UsjyfdOuQi\n",
      "\n",
      "24)- We can’t avoid a climate disaster without corporate leaders making courageous decisions now. I hope to work with  on building the markets for the clean technologies the world needs. Thank you for the kind words, Herbert. https://t.co/BgC6pJoql2\n",
      "\n",
      "25)- Delivering vaccines to those who need them most, no matter where they live or how much money they have, is the only way to end the pandemic and begin the recovery. This is an important milestone. https://t.co/PY5kjk63wr\n",
      "\n",
      "26)- _H2020    To get to net zero, we need innovation to replace fossil fuels in everyday products like plastics.  is one of the many companies leading on this important work.\n",
      "\n",
      "27)- We're fortunate to have an Energy Secretary who's focused on creating high-quality jobs to build a clean energy economy. I look forward to working with  on clean tech innovation and deployment. https://t.co/xFmM5zEIGp\n",
      "\n",
      "28)- Thanks  and  for a great conversation about how we can avoid a climate disaster. https://t.co/MJRhbtDCzy\n",
      "\n",
      "29)- I’m looking forward to joining  to talk about climate change, our foundation’s work in response to the pandemic, and more. https://t.co/P4PKAq8Bef\n",
      "\n",
      "30)- It’s encouraging to have  John Kerry representing the U.S. to the world. Now that we've rejoined the Paris Climate Agreement, it's going to take ambitious action from U.S. leaders and those around the globe to avoid a climate disaster. https://t.co/10FzYE02wm\n",
      "\n",
      "31)- Thanks  and  for having me on the show to talk about climate change and COVID-19 – two urgent global issues that need global collaboration. https://t.co/gGH7XR9yGW\n",
      "\n",
      "32)-   I always have fun talking to . Thanks for inviting me to talk about climate change and my new book.\n",
      "\n",
      "33)- : I’m grateful for new commitments from the EU, Germany, Canada, Japan, and the U.S. to help make safe and effective COVID-…\n",
      "\n",
      "34)- I’m inspired by ’s activism and humanitarian work. Thanks to  and  for hosting our discussion about climate change and how everyone can help. https://t.co/tPGhgu8C30\n",
      "\n",
      "35)-  Thanks  for talking with me about this challenge and why we need to act now.\n",
      "\n",
      "36)- Meaningful action from business leaders will require the courage to take risks that many companies aren't used to taking. https://t.co/bYZNz7Ohf8\n",
      "\n",
      "37)- Thanks to , , and everyone who joined our virtual conversation about climate change. Great to have so much support from my hometown for this important work. https://t.co/F2FB6GUIAj\n",
      "\n",
      "38)- Great to see this important step as the United States resumes our global leadership on climate change. Looking forward to working with  and Congress on a plan to ensure we reach net zero by 2050. https://t.co/MtqGhBHe5e\n",
      "\n",
      "39)- Thanks to  for hosting the launch of my virtual book tour. It was great to hear so many thoughtful questions about what we can all do to help avoid a climate disaster.\n",
      "\n",
      "40)- : Bill Gates on Climate Change, Covid and Whether He Has Too Much Influence https://t.co/SIE5MGjff5\n",
      "\n",
      "41)- Thanks for inviting me on the podcast, . https://t.co/ZYn05LEoVA\n",
      "\n",
      "42)- Thank you, _RDG. We have a lot of work ahead of us to reach net-zero emissions by 2050 and avoid a climate disaster. Your leadership of COP26 is critical. Thanks also to ,  and  for hosting the London stop of my virtual book tour! https://t.co/5mUFZyVDTV\n",
      "\n",
      "43)- It was great to talk with  about my new book and the solutions we need to fight climate change. https://t.co/0BCOPPhHeC\n",
      "\n",
      "44)-   Thank you  for inviting me to talk about climate change. Solving it won’t be easy, but I believe we can do it.\n",
      "\n",
      "45)- Thanks for another great conversation ! https://t.co/aVkqu4Qvsz\n",
      "\n",
      "46)-  Thanks for inviting me to be a guest editor. We need every business leader and every industry to play a role in the fight against climate change.\n",
      "\n",
      "47)- I had a great time working with  on this special digital issue about climate change. The entire business community has a role to play—and we need to start now. https://t.co/c1rg35e2A8\n",
      "\n",
      "48)- How to Avoid a Climate Disaster is available now. I hope you’ll check out the book, but more importantly, I hope you’ll do what you can to help keep the planet livable for generations to come: https://t.co/08U8Bx43eo https://t.co/MRl69gIx2o\n",
      "\n",
      "49)- : In a digital cover story, we talked to  about his new book, \"How to Avoid a Climate Disaster.\" https://t.co/9thx4nORe…\n",
      "\n",
      "50)- To avoid a climate disaster, we need to eliminate emissions from the ways we create electricity, grow food, make things, move around, and heat and cool our buildings. It won’t be easy, but I believe we can do it. This book is about what it will take. https://t.co/xyzs0x6CwB\n",
      "\n",
      "51)- I enjoyed spending time with  recently in Seattle. We talked about why I’m optimistic that the world can get to zero greenhouse gas emissions and avoid a climate disaster: https://t.co/exodP9bavN https://t.co/2t0VncI0pA\n",
      "\n",
      "52)- I’m thrilled to join , _RDG, , , , , ,  and Monica Padman, Sal Khan, and Ariel Bissett to discuss how the world can work to avoid a climate disaster: https://t.co/blXhv7fa5l https://t.co/4k8xKEL26f\n",
      "\n",
      "53)- When it comes to preventing pandemics, scientific tools alone aren’t enough. We also need new capabilities, including a global alert system and infectious disease first responders (or what I like to call a pandemic fire squad): https://t.co/53Rf5uvjub https://t.co/rTmM7STl6U\n",
      "\n",
      "54)- This has been a year unlike any other in our lifetimes. In our new Annual Letter, Melinda and I talk about how we can turn the hard-won lessons of the pandemic into a healthier, more equal future for all. https://t.co/Zt42aWl86x\n",
      "\n",
      "55)- : I believe that women can be the architects of a better world. \n",
      "\n",
      "Their stories have instilled in me both a sense of urgenc…\n",
      "\n",
      "56)- One of the benefits of being 65 is that I’m eligible for the COVID-19 vaccine. I got my first dose this week, and I feel great. Thank you to all of the scientists, trial participants, regulators, and frontline healthcare workers who got us to this point. https://t.co/67SIfrG1Yd\n",
      "\n",
      "57)- It’s great to see President Biden elevate science leadership to a cabinet-level position. Congratulations _lander. https://t.co/V9gBvM4uXT\n",
      "\n",
      "58)- And while COVID-19 will rightfully continue to dominate the agenda, the United States also has the opportunity to lead the world in avoiding a climate disaster. The President is taking a great first step by rejoining the Paris Climate Accord.\n",
      "\n",
      "59)- With Americans across the country working together, more people get a COVID-19 vaccine every day, bringing us closer to a time when life will look much more like normal. Until then, we can slow the spread of the virus and save lives by continuing to distance and wear masks.\n",
      "\n",
      "60)- MLKDay has long been a national day of service. As we celebrate the first without Congressman John Lewis, I'm thinking about his powerful call to remain hopeful about the future as we work to make our country—and our world—a better place. https://t.co/RpmKvrzjPo\n",
      "\n",
      "61)- It’s great to see India’s leadership in scientific innovation and vaccine manufacturing capability as the world works to end the COVID-19 pandemic  https://t.co/Ds4f3tmrm3\n",
      "\n",
      "62)- : The best emergency system is a strong primary health system—powered by community and frontline health workers. Now is t…\n",
      "\n",
      "63)- What does Rashida Jones have on her shopping list? That’s just one of the many questions that didn’t make it into our podcast. You can listen to some of the big questions we did tackle here: https://t.co/RJzHRUPoik https://t.co/yh63b11RSW\n",
      "\n",
      "64)- 2021 will be better than 2020. Here’s why: https://t.co/mYbpl5wwF1\n",
      "\n",
      "65)- Standing up for science has never been more important. Congratulations to Dr. Anthony Fauci and Dr. Salim Abdool Karim on receiving this honor. https://t.co/XE2NArYcE3\n",
      "\n",
      "66)- I've known and learned from  for more than 40 years. I'm glad to see  team up with  to mentor and support companies working to create more economic empowerment opportunities for people across the world. https://t.co/PWK1VeSaxT\n",
      "\n",
      "67)- This book has nothing to do with viruses or pandemics. But it is surprisingly relevant for these times.  provides a brilliant and gripping account of another era of widespread anxiety: the years 1940 and 1941. https://t.co/cm6IunxOZL\n",
      "\n",
      "68)- Monoclonal antibodies are one of the most promising treatments we have for COVID-19, thanks in large part to R&amp;D by Canadian scientists. Because of their generosity, people all around the world will have access to this potentially lifesaving treatment. https://t.co/2flhbV7e4n\n",
      "\n",
      "69)- : We’re looking for new ways to advance AlzheimersResearch. If you have an idea for tools, models, or algorithms that will expa…\n",
      "\n"
     ]
    }
   ],
   "source": [
    "# printing all the positive tweets\n",
    "j=1\n",
    "sortedDF=df.sort_values(by=['Polarity'])\n",
    "for i in range(0,sortedDF.shape[0]):\n",
    "    if(sortedDF['Analysis'][i]=='Positive'):\n",
    "        print(str(j)+')- '+sortedDF['Tweets'][i])\n",
    "        print()\n",
    "        j=j+1"
   ]
  },
  {
   "cell_type": "code",
   "execution_count": 15,
   "metadata": {},
   "outputs": [
    {
     "name": "stdout",
     "output_type": "stream",
     "text": [
      "69.0% of positive tweets\n"
     ]
    }
   ],
   "source": [
    "# getting the percentage of positive tweets\n",
    "positive=df[df['Analysis']==\"Positive\"]\n",
    "print(str(round((positive.shape[0]/(df.shape[0])*100),1))+\"% of positive tweets\")"
   ]
  },
  {
   "cell_type": "code",
   "execution_count": 16,
   "metadata": {},
   "outputs": [
    {
     "name": "stdout",
     "output_type": "stream",
     "text": [
      "1)- Communities of color have been hit hard by COVID-19. One of the reasons why parts of the medical system often fail Black and brown people is because it’s not designed with them in mind. Dr. Stephaun Wallace wants to change that. https://t.co/VIaM9385bv\n",
      "\n",
      "2)- Dr. Stephaun Wallace () has spent the last year helping make COVID-19 vaccines work for everybody. Stephaun and his colleagues at  are working to reach the people who are usually left behind. https://t.co/7wqSeT3DJN\n",
      "\n",
      "3)- It’s deeply unfair that the people who contribute the least to climate change will suffer the worst from its effects: https://t.co/XciR3lIVzs https://t.co/Y2do5GhsGx\n",
      "\n",
      "4)- : Over the past few weeks health workers in Ethiopia 🇪🇹, Nigeria 🇳🇬, Sudan 🇸🇩 and the Philippines 🇵🇭 were vaccinated against COVI…\n",
      "\n",
      "5)- For decades, Australian researcher Ruth Bishop led global efforts to identify and combat rotavirus. Her life is a reminder of the importance of scientific research to uncover unknown pathogens and the power of vaccines to prevent suffering and save lives. https://t.co/X5okWwpBbX\n",
      "\n",
      "6)- : Black folks have questions about the COVID-19 vaccine. I sat down w/ Black healthcare workers &amp; they answered my questions.…\n",
      "\n",
      "7)- Recent extreme weather events are a stark reminder that we’re already seeing the effects of climate change here at home and around the world. This type of observation system will help scientists monitor and predict future weather events. https://t.co/eO4eKSDRn0\n",
      "\n",
      "8)- There are several ways individuals can help move us closer to a zero-carbon future. Here are a few: https://t.co/oTQ5ebQ4yp https://t.co/V3TBVjfZlp\n",
      "\n",
      "9)- : The Weekly Planet: Lately, Bill Gates has been thinking about what he calls the “hard stuff” of climate change. These hard…\n",
      "\n",
      "10)- : \"People who think a plan is easy are wrong. People who think a plan is impossible are wrong. It's super hard and very broad,…\n",
      "\n",
      "11)- : Only 3% of Black students learn computer science in high school or beyond. Please watch and share this video. Inspire a studen…\n",
      "\n",
      "12)- COVID-19 has cost lives, sickened millions, and thrust the global economy into a devastating recession. But hope is on the horizon: https://t.co/clsscPwQUD https://t.co/sNl4kT9bE3\n",
      "\n",
      "13)- Here are four other ways that America can advance its leadership on climate change this year and put the world on a path to zero emissions by 2050: https://t.co/vxEjYjqAaD https://t.co/GkzumHP4wf\n",
      "\n",
      "14)- The President’s commitment to reengage with the world gives me hope that the recovery will reach everyone, including communities of color in the U.S. and people in poor countries around the world.\n",
      "\n"
     ]
    }
   ],
   "source": [
    "# printing all the negative tweets\n",
    "j=1\n",
    "sortedDF=df.sort_values(by=['Polarity'],ascending=False)\n",
    "for i in range(0,sortedDF.shape[0]):\n",
    "    if(sortedDF['Analysis'][i]=='Negative'):\n",
    "        print(str(j)+')- '+sortedDF['Tweets'][i])\n",
    "        print()\n",
    "        j=j+1"
   ]
  },
  {
   "cell_type": "code",
   "execution_count": 17,
   "metadata": {},
   "outputs": [
    {
     "name": "stdout",
     "output_type": "stream",
     "text": [
      "14.0% of negative tweets\n"
     ]
    }
   ],
   "source": [
    "# getting the percentage of negative tweets\n",
    "negative=df[df['Analysis']==\"Negative\"]\n",
    "print(str(round((negative.shape[0]/(df.shape[0])*100),1))+\"% of negative tweets\")"
   ]
  },
  {
   "cell_type": "code",
   "execution_count": 18,
   "metadata": {},
   "outputs": [
    {
     "name": "stdout",
     "output_type": "stream",
     "text": [
      "1)- https://t.co/padmHSgWGc\n",
      "\n",
      "2)- I was honored to speak at today’s LeadersClimateSummit about the three things we need to do to avoid a climate disaster. https://t.co/0YJJyabeIn\n",
      "\n",
      "3)- Cement is responsible for 6% of carbon emissions globally. To get to net-zero by 2050, we need innovations to decarbonize the material. I discuss a few approaches to make low-emission cement in my climate book: https://t.co/Ok1p3xQir4\n",
      "\n",
      "4)- Here are five things you should know if you want to understand how variants are (and aren’t) complicating the pandemic. https://t.co/rANiDcZynJ\n",
      "\n",
      "5)- : 💡 From climateadaptation to genderequality, discover ’s 50 years of innovations that changed the world 🌎 🎉: https://t.co…\n",
      "\n",
      "6)- : It's WorldTBDay\n",
      "\n",
      "Even as we battle COVID19, we must not ease up the fight against Tuberculosis, which remains the 🌎🌍🌏’s deadlie…\n",
      "\n",
      "7)- I’m answering your questions now on : https://t.co/HXMsI0lSK1 https://t.co/XG7eAMNrGM\n",
      "\n",
      "8)- After you finish your pancakes this morning, come ask me anything on  at 11:15 Pacific Time: https://t.co/R3wfDhtqxD https://t.co/fAPRPUWQtu\n",
      "\n",
      "9)- : Speaking from villages, riverbanks and rural clinics, frontline health workers and malaria volunteers share stories of what…\n",
      "\n",
      "10)-   Thank you for your partnership, , and for sharing what all of us can do to avoid a climate disaster.\n",
      "\n",
      "11)- When I talk to people about climate change, I almost always get asked the same question: What can I do to help? Here are some actions individuals can take to move us closer to a zero-carbon future: https://t.co/ALBni7g2IP\n",
      "\n",
      "12)- : At Breakthrough Energy, we don’t just think about how to get to zero. We help make it happen. Working at the intersection…\n",
      "\n",
      "13)- I wrote How to Avoid a Climate Disaster because I see not just the problem of climate change; I also see an opportunity to solve it. Here’s how: https://t.co/3X4ihy9hMf https://t.co/QoMRuQ1g9x\n",
      "\n",
      "14)- The world’s power to invent makes me hopeful about climate change. Breakthrough Energy supports the innovations that will lead the world to net-zero emissions. https://t.co/yBb8HMKAmJ\n",
      "\n",
      "15)- : In 2020, global health went local. \n",
      "\n",
      "COVID-19 has shown us that what happens in one part of the world matters to the rest…\n",
      "\n",
      "16)- : After being sworn in this morning, I'm honored to share that I've been appointed by  as the President’s Malaria Coord…\n",
      "\n",
      "17)- I look forward to working with President  and Vice President  to tackle some of our toughest challenges like COVID-19 and climate change. This has been a troubling time in America, but I see promise in the months and years ahead.\n",
      "\n"
     ]
    }
   ],
   "source": [
    "# printing all the neutral tweets\n",
    "j=1\n",
    "sortedDF=df.sort_values(by=['Polarity'])\n",
    "for i in range(0,sortedDF.shape[0]):\n",
    "    if(sortedDF['Analysis'][i]=='Neutral'):\n",
    "        print(str(j)+')- '+sortedDF['Tweets'][i])\n",
    "        print()\n",
    "        j=j+1"
   ]
  },
  {
   "cell_type": "code",
   "execution_count": 19,
   "metadata": {},
   "outputs": [
    {
     "name": "stdout",
     "output_type": "stream",
     "text": [
      "17.0% of neutral tweets\n"
     ]
    }
   ],
   "source": [
    "# getting the percentage of neutral tweets\n",
    "neutral=df[df['Analysis']==\"Neutral\"]\n",
    "print(str(round((neutral.shape[0]/(df.shape[0])*100),1))+\"% of neutral tweets\")"
   ]
  },
  {
   "cell_type": "code",
   "execution_count": 20,
   "metadata": {},
   "outputs": [
    {
     "data": {
      "image/png": "[encoded data removed]",
      "text/plain": [
       "<Figure size 432x288 with 1 Axes>"
      ]
     },
     "metadata": {
      "needs_background": "light"
     },
     "output_type": "display_data"
    }
   ],
   "source": [
    "# plotting the bar graph\n",
    "plt.title('Sentiment Analysis')\n",
    "plt.xlabel('Sentiment')\n",
    "plt.ylabel('Counts')\n",
    "df['Analysis'].value_counts().plot(kind = 'bar')\n",
    "plt.show()"
   ]
  },
  {
   "cell_type": "code",
   "execution_count": null,
   "metadata": {},
   "outputs": [],
   "source": []
  }
 ],
 "metadata": {
  "kernelspec": {
   "display_name": "Python 3",
   "language": "python",
   "name": "python3"
  },
  "language_info": {
   "codemirror_mode": {
    "name": "ipython",
    "version": 3
   },
   "file_extension": ".py",
   "mimetype": "text/x-python",
   "name": "python",
   "nbconvert_exporter": "python",
   "pygments_lexer": "ipython3",
   "version": "3.8.5"
  }
 },
 "nbformat": 4,
 "nbformat_minor": 4
}
